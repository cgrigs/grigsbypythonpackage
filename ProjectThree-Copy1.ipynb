{
 "cells": [
  {
   "cell_type": "code",
   "execution_count": 6,
   "metadata": {},
   "outputs": [],
   "source": [
    "import grigsbypythonpackage as gpp"
   ]
  },
  {
   "cell_type": "code",
   "execution_count": 2,
   "metadata": {},
   "outputs": [
    {
     "name": "stdout",
     "output_type": "stream",
     "text": [
      "<dendropy.datamodel.charmatrixmodel.DnaCharacterMatrix object at 0x7fe5940402b0>\n"
     ]
    }
   ],
   "source": [
    "set = gpp.sequence_reader(\"../../data/plethodon.phy\")\n",
    "print(set)"
   ]
  },
  {
   "cell_type": "code",
   "execution_count": 3,
   "metadata": {},
   "outputs": [],
   "source": [
    "gpp.sequence_cleanup(set, \"../outfile\", \"Plethodon_kentucki\", 4097, 5236)"
   ]
  },
  {
   "cell_type": "code",
   "execution_count": 4,
   "metadata": {},
   "outputs": [
    {
     "ename": "KeyboardInterrupt",
     "evalue": "",
     "output_type": "error",
     "traceback": [
      "\u001b[0;31m---------------------------------------------------------------------------\u001b[0m",
      "\u001b[0;31mKeyboardInterrupt\u001b[0m                         Traceback (most recent call last)",
      "\u001b[0;32m<ipython-input-4-185469ae94a6>\u001b[0m in \u001b[0;36m<module>\u001b[0;34m()\u001b[0m\n\u001b[0;32m----> 1\u001b[0;31m \u001b[0mgpp\u001b[0m\u001b[0;34m.\u001b[0m\u001b[0msequence_blaster\u001b[0m\u001b[0;34m(\u001b[0m\u001b[0;34m\"../outfile\"\u001b[0m\u001b[0;34m,\u001b[0m \u001b[0;34m\"../results_path\"\u001b[0m\u001b[0;34m)\u001b[0m\u001b[0;34m\u001b[0m\u001b[0m\n\u001b[0m",
      "\u001b[0;32m~/.local/lib/python3.6/site-packages/grigsbypythonpackage/sequence_blaster.py\u001b[0m in \u001b[0;36msequence_blaster\u001b[0;34m(fasta_path, results_path)\u001b[0m\n\u001b[1;32m      6\u001b[0m \u001b[0;34m\u001b[0m\u001b[0m\n\u001b[1;32m      7\u001b[0m     \u001b[0mrecord\u001b[0m \u001b[0;34m=\u001b[0m \u001b[0mSeqIO\u001b[0m\u001b[0;34m.\u001b[0m\u001b[0mread\u001b[0m\u001b[0;34m(\u001b[0m\u001b[0mfasta_path\u001b[0m\u001b[0;34m,\u001b[0m \u001b[0mformat\u001b[0m \u001b[0;34m=\u001b[0m \u001b[0;34m\"fasta\"\u001b[0m\u001b[0;34m)\u001b[0m\u001b[0;34m\u001b[0m\u001b[0m\n\u001b[0;32m----> 8\u001b[0;31m     \u001b[0mresults\u001b[0m \u001b[0;34m=\u001b[0m \u001b[0mNCBIWWW\u001b[0m\u001b[0;34m.\u001b[0m\u001b[0mqblast\u001b[0m\u001b[0;34m(\u001b[0m\u001b[0;34m\"blastn\"\u001b[0m\u001b[0;34m,\u001b[0m \u001b[0;34m\"nt\"\u001b[0m\u001b[0;34m,\u001b[0m \u001b[0mrecord\u001b[0m\u001b[0;34m.\u001b[0m\u001b[0mformat\u001b[0m\u001b[0;34m(\u001b[0m\u001b[0;34m\"fasta\"\u001b[0m\u001b[0;34m)\u001b[0m\u001b[0;34m)\u001b[0m\u001b[0;34m\u001b[0m\u001b[0m\n\u001b[0m\u001b[1;32m      9\u001b[0m \u001b[0;34m\u001b[0m\u001b[0m\n\u001b[1;32m     10\u001b[0m     \u001b[0msave_file\u001b[0m \u001b[0;34m=\u001b[0m \u001b[0mopen\u001b[0m\u001b[0;34m(\u001b[0m\u001b[0mresults_path\u001b[0m\u001b[0;34m,\u001b[0m \u001b[0;34m\"w\"\u001b[0m\u001b[0;34m)\u001b[0m\u001b[0;34m\u001b[0m\u001b[0m\n",
      "\u001b[0;32m/opt/tljh/user/lib/python3.6/site-packages/Bio/Blast/NCBIWWW.py\u001b[0m in \u001b[0;36mqblast\u001b[0;34m(program, database, sequence, url_base, auto_format, composition_based_statistics, db_genetic_code, endpoints, entrez_query, expect, filter, gapcosts, genetic_code, hitlist_size, i_thresh, layout, lcase_mask, matrix_name, nucl_penalty, nucl_reward, other_advanced, perc_ident, phi_pattern, query_file, query_believe_defline, query_from, query_to, searchsp_eff, service, threshold, ungapped_alignment, word_size, alignments, alignment_view, descriptions, entrez_links_new_window, expect_low, expect_high, format_entrez_query, format_object, format_type, ncbi_gi, results_file, show_overview, megablast, template_type, template_length)\u001b[0m\n\u001b[1;32m    178\u001b[0m         \u001b[0mwait\u001b[0m \u001b[0;34m=\u001b[0m \u001b[0mprevious\u001b[0m \u001b[0;34m+\u001b[0m \u001b[0mdelay\u001b[0m \u001b[0;34m-\u001b[0m \u001b[0mcurrent\u001b[0m\u001b[0;34m\u001b[0m\u001b[0m\n\u001b[1;32m    179\u001b[0m         \u001b[0;32mif\u001b[0m \u001b[0mwait\u001b[0m \u001b[0;34m>\u001b[0m \u001b[0;36m0\u001b[0m\u001b[0;34m:\u001b[0m\u001b[0;34m\u001b[0m\u001b[0m\n\u001b[0;32m--> 180\u001b[0;31m             \u001b[0mtime\u001b[0m\u001b[0;34m.\u001b[0m\u001b[0msleep\u001b[0m\u001b[0;34m(\u001b[0m\u001b[0mwait\u001b[0m\u001b[0;34m)\u001b[0m\u001b[0;34m\u001b[0m\u001b[0m\n\u001b[0m\u001b[1;32m    181\u001b[0m             \u001b[0mprevious\u001b[0m \u001b[0;34m=\u001b[0m \u001b[0mcurrent\u001b[0m \u001b[0;34m+\u001b[0m \u001b[0mwait\u001b[0m\u001b[0;34m\u001b[0m\u001b[0m\n\u001b[1;32m    182\u001b[0m         \u001b[0;32melse\u001b[0m\u001b[0;34m:\u001b[0m\u001b[0;34m\u001b[0m\u001b[0m\n",
      "\u001b[0;31mKeyboardInterrupt\u001b[0m: "
     ]
    }
   ],
   "source": [
    "gpp.sequence_blaster(\"../outfile\", \"../results_path\")"
   ]
  },
  {
   "cell_type": "code",
   "execution_count": 7,
   "metadata": {},
   "outputs": [
    {
     "name": "stdout",
     "output_type": "stream",
     "text": [
      "gi|125380686|gb|DQ994948.1| Plethodon kentucki voucher RH 66693 cytochrome b (cytb) gene, partial cds; mitochondrial\n",
      "           Length = 625\n",
      "\n",
      "gi|51979883|gb|AY728222.1| Plethodon petraeus mitochondrion, complete genome\n",
      "           Length = 19235\n",
      "\n",
      "gi|125380683|gb|DQ994946.1| Plethodon jordani voucher JB 201-73-01 cytochrome b (cytb) gene, partial cds; mitochondrial\n",
      "           Length = 644\n",
      "\n",
      "gi|125380685|gb|DQ994947.1| Plethodon jordani voucher JB 201-67w-01 cytochrome b-like (cytb) gene, partial sequence; mitochondrial\n",
      "           Length = 649\n",
      "\n",
      "gi|125380736|gb|DQ994973.1| Plethodon petraeus voucher RWV S21-B cytochrome b (cytb) gene, partial cds; mitochondrial\n",
      "           Length = 630\n",
      "\n",
      "gi|125380641|gb|DQ994924.1| Plethodon chlorobryonis voucher JJW 1807 cytochrome b (cytb) gene, partial cds; mitochondrial\n",
      "           Length = 649\n",
      "\n",
      "gi|125380761|gb|DQ994986.1| Plethodon shermani voucher JJW 1741 cytochrome b (cytb) gene, partial cds; mitochondrial\n",
      "           Length = 649\n",
      "\n",
      "gi|125380664|gb|DQ994936.1| Plethodon glutinosus voucher APPSU 10209 cytochrome b (cytb) gene, partial cds; mitochondrial\n",
      "           Length = 626\n",
      "\n",
      "gi|125380771|gb|DQ994991.1| Plethodon variolatus voucher UTA A-56973 cytochrome b (cytb) gene, partial cds; mitochondrial\n",
      "           Length = 649\n",
      "\n",
      "gi|125380648|gb|DQ994928.1| Plethodon cylindraceus voucher UTA A-56967 cytochrome b (cytb) gene, partial cds; mitochondrial\n",
      "           Length = 649\n",
      "\n",
      "gi|327239997|gb|JF504060.1| Plethodon caddoensis voucher DBS_1935 cytochrome b (cytb) gene, partial cds; mitochondrial\n",
      "           Length = 1052\n",
      "\n",
      "gi|327239995|gb|JF504059.1| Plethodon caddoensis voucher DBS_1934 cytochrome b (cytb) gene, partial cds; mitochondrial >gi|327239999|gb|JF504061.1| Plethodon caddoensis voucher DBS_1936 cytochrome b (cytb) gene, partial cds; mitochondrial >gi|327240001|gb|JF504062.1| Plethodon caddoensis voucher DBS_1937 cytochrome b (cytb) gene, partial cds; mitochondrial\n",
      "           Length = 1052\n",
      "\n",
      "gi|327239933|gb|JF504028.1| Plethodon caddoensis voucher DBS_1125 cytochrome b (cytb) gene, partial cds; mitochondrial\n",
      "           Length = 1052\n",
      "\n",
      "gi|327239929|gb|JF504026.1| Plethodon caddoensis voucher DBS_1123 cytochrome b (cytb) gene, partial cds; mitochondrial >gi|327239931|gb|JF504027.1| Plethodon caddoensis voucher DBS_1124 cytochrome b (cytb) gene, partial cds; mitochondrial\n",
      "           Length = 1052\n",
      "\n",
      "gi|327239901|gb|JF504012.1| Plethodon caddoensis voucher DBS_1030 cytochrome b (cytb) gene, partial cds; mitochondrial\n",
      "           Length = 1052\n",
      "\n",
      "gi|125380773|gb|DQ994992.1| Plethodon variolatus voucher UTA A-56960 cytochrome b-like (cytb) gene, partial sequence; mitochondrial\n",
      "           Length = 649\n",
      "\n",
      "gi|125380759|gb|DQ994985.1| Plethodon shermani voucher RH 73892 cytochrome b (cytb) gene, partial cds; mitochondrial\n",
      "           Length = 649\n",
      "\n",
      "gi|125380748|gb|DQ994979.1| Plethodon sequoyah voucher APPSU 24547 cytochrome b (cytb) gene, partial cds; mitochondrial\n",
      "           Length = 649\n",
      "\n",
      "gi|125380720|gb|DQ994965.1| Plethodon oconaluftee voucher JJW 1626 cytochrome b (cytb) gene, partial cds; mitochondrial\n",
      "           Length = 649\n",
      "\n",
      "gi|125380769|gb|DQ994990.1| Plethodon teyahalee voucher RH 55224 cytochrome b (cytb) gene, partial cds; mitochondrial\n",
      "           Length = 649\n",
      "\n",
      "gi|327240517|gb|JF504320.1| Plethodon albagula voucher DBS_2181 cytochrome b (cytb) gene, partial cds; mitochondrial\n",
      "           Length = 1052\n",
      "\n",
      "gi|327240219|gb|JF504171.1| Plethodon caddoensis voucher DBS_2074 cytochrome b (cytb) gene, partial cds; mitochondrial\n",
      "           Length = 1052\n",
      "\n",
      "gi|327240209|gb|JF504166.1| Plethodon caddoensis voucher DBS_2069 cytochrome b (cytb) gene, partial cds; mitochondrial >gi|327240223|gb|JF504173.1| Plethodon caddoensis voucher DBS_2076 cytochrome b (cytb) gene, partial cds; mitochondrial >gi|327240231|gb|JF504177.1| Plethodon caddoensis voucher DBS_2080 cytochrome b (cytb) gene, partial cds; mitochondrial >gi|327240233|gb|JF504178.1| Plethodon caddoensis voucher DBS_2081 cytochrome b (cytb) gene, partial cds; mitochondrial >gi|327240235|gb|JF504179.1| Plethodon caddoensis voucher DBS_2082 cytochrome b (cytb) gene, partial cds; mitochondrial\n",
      "           Length = 1052\n",
      "\n",
      "gi|327240035|gb|JF504079.1| Plethodon caddoensis voucher DBS_1957 cytochrome b (cytb) gene, partial cds; mitochondrial\n",
      "           Length = 1052\n",
      "\n",
      "gi|327240007|gb|JF504065.1| Plethodon caddoensis voucher DBS_1940 cytochrome b (cytb) gene, partial cds; mitochondrial\n",
      "           Length = 1052\n",
      "\n",
      "gi|327240005|gb|JF504064.1| Plethodon caddoensis voucher DBS_1939 cytochrome b (cytb) gene, partial cds; mitochondrial >gi|327240009|gb|JF504066.1| Plethodon caddoensis voucher DBS_1941 cytochrome b (cytb) gene, partial cds; mitochondrial\n",
      "           Length = 1052\n",
      "\n",
      "gi|327239903|gb|JF504013.1| Plethodon caddoensis voucher DBS_1031 cytochrome b (cytb) gene, partial cds; mitochondrial >gi|327239905|gb|JF504014.1| Plethodon caddoensis voucher DBS_1032 cytochrome b (cytb) gene, partial cds; mitochondrial >gi|327239909|gb|JF504016.1| Plethodon caddoensis voucher DBS_1034 cytochrome b (cytb) gene, partial cds; mitochondrial >gi|327240031|gb|JF504077.1| Plethodon caddoensis voucher DBS_1955 cytochrome b (cytb) gene, partial cds; mitochondrial >gi|327240033|gb|JF504078.1| Plethodon caddoensis voucher DBS_1956 cytochrome b (cytb) gene, partial cds; mitochondrial >gi|327240037|gb|JF504080.1| Plethodon caddoensis voucher DBS_1958 cytochrome b (cytb) gene, partial cds; mitochondrial >gi|327240039|gb|JF504081.1| Plethodon caddoensis voucher DBS_1959 cytochrome b (cytb) gene, partial cds; mitochondrial\n",
      "           Length = 1052\n",
      "\n",
      "gi|327239897|gb|JF504010.1| Plethodon caddoensis voucher DBS_1028 cytochrome b (cytb) gene, partial cds; mitochondrial >gi|327239899|gb|JF504011.1| Plethodon caddoensis voucher DBS_1029 cytochrome b (cytb) gene, partial cds; mitochondrial >gi|327239907|gb|JF504015.1| Plethodon caddoensis voucher DBS_1033 cytochrome b (cytb) gene, partial cds; mitochondrial >gi|327240435|gb|JF504279.1| Plethodon caddoensis voucher DBS_496 cytochrome b (cytb) gene, partial cds; mitochondrial >gi|327240437|gb|JF504280.1| Plethodon caddoensis voucher DBS_497 cytochrome b (cytb) gene, partial cds; mitochondrial >gi|327240439|gb|JF504281.1| Plethodon caddoensis voucher DBS_498 cytochrome b (cytb) gene, partial cds; mitochondrial >gi|327240443|gb|JF504283.1| Plethodon caddoensis voucher DBS_515 cytochrome b (cytb) gene, partial cds; mitochondrial\n",
      "           Length = 1052\n",
      "\n",
      "gi|125380703|gb|DQ994956.1| Plethodon metcalfi voucher RH 76539 cytochrome b (cytb) gene, partial cds; mitochondrial\n",
      "           Length = 649\n",
      "\n",
      "gi|125380668|gb|DQ994938.1| Plethodon glutinosus voucher UTA A-56969 cytochrome b (cytb) gene, partial cds; mitochondrial\n",
      "           Length = 649\n",
      "\n",
      "gi|125380631|gb|DQ994918.1| Plethodon caddoensis voucher DBS 498 cytochrome b (cytb) gene, partial cds; mitochondrial\n",
      "           Length = 637\n",
      "\n",
      "gi|327240441|gb|JF504282.1| Plethodon caddoensis voucher DBS_499 cytochrome b (cytb) gene, partial cds; mitochondrial\n",
      "           Length = 1052\n",
      "\n",
      "gi|327240321|gb|JF504222.1| Plethodon caddoensis voucher DBS_2143 cytochrome b (cytb) gene, partial cds; mitochondrial >gi|327240323|gb|JF504223.1| Plethodon caddoensis voucher DBS_2144 cytochrome b (cytb) gene, partial cds; mitochondrial\n",
      "           Length = 1052\n",
      "\n",
      "gi|327240229|gb|JF504176.1| Plethodon caddoensis voucher DBS_2079 cytochrome b (cytb) gene, partial cds; mitochondrial\n",
      "           Length = 1052\n",
      "\n",
      "gi|327240221|gb|JF504172.1| Plethodon caddoensis voucher DBS_2075 cytochrome b (cytb) gene, partial cds; mitochondrial\n",
      "           Length = 1052\n",
      "\n",
      "gi|327240213|gb|JF504168.1| Plethodon caddoensis voucher DBS_2071 cytochrome b (cytb) gene, partial cds; mitochondrial >gi|327240215|gb|JF504169.1| Plethodon caddoensis voucher DBS_2072 cytochrome b (cytb) gene, partial cds; mitochondrial >gi|327240217|gb|JF504170.1| Plethodon caddoensis voucher DBS_2073 cytochrome b (cytb) gene, partial cds; mitochondrial >gi|327240227|gb|JF504175.1| Plethodon caddoensis voucher DBS_2078 cytochrome b (cytb) gene, partial cds; mitochondrial\n",
      "           Length = 1052\n",
      "\n",
      "gi|327240211|gb|JF504167.1| Plethodon caddoensis voucher DBS_2070 cytochrome b (cytb) gene, partial cds; mitochondrial\n",
      "           Length = 932\n",
      "\n",
      "gi|327240011|gb|JF504067.1| Plethodon caddoensis voucher DBS_1942 cytochrome b (cytb) gene, partial cds; mitochondrial\n",
      "           Length = 1052\n",
      "\n",
      "gi|327240003|gb|JF504063.1| Plethodon caddoensis voucher DBS_1938 cytochrome b (cytb) gene, partial cds; mitochondrial\n",
      "           Length = 1052\n",
      "\n",
      "gi|327239891|gb|JF504007.1| Plethodon caddoensis voucher DBS_1021 cytochrome b (cytb) gene, partial cds; mitochondrial\n",
      "           Length = 1052\n",
      "\n",
      "gi|327239889|gb|JF504006.1| Plethodon caddoensis voucher DBS_1020 cytochrome b (cytb) gene, partial cds; mitochondrial\n",
      "           Length = 1048\n",
      "\n",
      "gi|125380722|gb|DQ994966.1| Plethodon oconaluftee voucher JJW 1683 cytochrome b (cytb) gene, partial cds; mitochondrial\n",
      "           Length = 649\n",
      "\n",
      "gi|125380626|gb|DQ994915.1| Plethodon aureolus voucher JJW 1762 cytochrome b-like (cytb) gene, partial sequence; mitochondrial\n",
      "           Length = 649\n",
      "\n",
      "gi|226426798|gb|FJ611457.1| Plethodon fourchensis voucher DBS 1761 cytochrome b (cytb) gene, partial cds; mitochondrial\n",
      "           Length = 1052\n",
      "\n",
      "gi|226426782|gb|FJ611449.1| Plethodon fourchensis voucher DBS 1751 cytochrome b (cytb) gene, partial cds; mitochondrial\n",
      "           Length = 1052\n",
      "\n",
      "gi|125380635|gb|DQ994920.1| Plethodon chattahoochee voucher UTA A-56965 cytochrome b (cytb) gene, partial cds; mitochondrial\n",
      "           Length = 649\n",
      "\n",
      "gi|327240417|gb|JF504270.1| Plethodon caddoensis voucher DBS_2223 cytochrome b (cytb) gene, partial cds; mitochondrial\n",
      "           Length = 1052\n",
      "\n",
      "gi|327240271|gb|JF504197.1| Plethodon caddoensis voucher DBS_2102 cytochrome b (cytb) gene, partial cds; mitochondrial >gi|327240273|gb|JF504198.1| Plethodon caddoensis voucher DBS_2103 cytochrome b (cytb) gene, partial cds; mitochondrial\n",
      "           Length = 1052\n",
      "\n",
      "gi|327240269|gb|JF504196.1| Plethodon caddoensis voucher DBS_2101 cytochrome b (cytb) gene, partial cds; mitochondrial\n",
      "           Length = 1031\n",
      "\n",
      "gi|327240267|gb|JF504195.1| Plethodon caddoensis voucher DBS_2100 cytochrome b (cytb) gene, partial cds; mitochondrial\n",
      "           Length = 1052\n",
      "\n"
     ]
    }
   ],
   "source": [
    "gpp.sequence_parser(\"../results_path\")"
   ]
  },
  {
   "cell_type": "markdown",
   "metadata": {},
   "source": [
    "# Project Three\n",
    "\n",
    "Here's what you're going to do.\n",
    "\n",
    "## Part One\n",
    "\n",
    "You're going to run each of the functions in the package.\n",
    "\n",
    "(15 pts each Error 1, Error 2, Error 3)"
   ]
  },
  {
   "cell_type": "markdown",
   "metadata": {},
   "source": [
    "1) Error 1 - paste in the traceback. \n",
    "\n",
    "\n"
   ]
  },
  {
   "cell_type": "markdown",
   "metadata": {},
   "source": [
    "~/.local/lib/python3.6/site-packages/grigsbypythonpackage/sequence_reader.py in sequence_reader(filepath)\n",
    "      3 def sequence_reader(filepath):\n",
    "      4     # check the file exist\n",
    "----> 5     assert os.path.exists(filepath)\n",
    "      6     # check if it is in the correct format\n",
    "      7     sequence_set = dendropy.DnaCharacterMatrix.get(\n",
    "\n",
    "NameError: name 'os' is not defined"
   ]
  },
  {
   "cell_type": "markdown",
   "metadata": {},
   "source": [
    "2) Error 1 - What type of error is this? In your own words, what went wrong?"
   ]
  },
  {
   "cell_type": "markdown",
   "metadata": {},
   "source": [
    "my function did not know what os was"
   ]
  },
  {
   "cell_type": "markdown",
   "metadata": {},
   "source": [
    "3) Error 1 - Resolve this. In your own words, _how_ did you resolve the error? "
   ]
  },
  {
   "cell_type": "markdown",
   "metadata": {},
   "source": [
    "I imported os"
   ]
  },
  {
   "cell_type": "markdown",
   "metadata": {},
   "source": [
    "No Points) If you googled the error, paste in a link to a website you found helpful."
   ]
  },
  {
   "cell_type": "markdown",
   "metadata": {},
   "source": [
    "https://stackoverflow.com/questions/82831/how-do-i-check-whether-a-file-exists-without-exceptions?rq=1"
   ]
  },
  {
   "cell_type": "markdown",
   "metadata": {},
   "source": [
    "5) Error 2 - paste in the traceback. \n",
    "\n",
    "Type Error: sequence_cleaner() missing 1 required positional argument: 'gene'\n"
   ]
  },
  {
   "cell_type": "markdown",
   "metadata": {},
   "source": [
    "6) Error 2 - What type of error is this? In your own words, what went wrong?\n",
    "\n",
    "Runtime error. I couldn't call the function because I did not give it enough arguments"
   ]
  },
  {
   "cell_type": "markdown",
   "metadata": {},
   "source": [
    "7) Error 2 - Resolve this. In your own words, _how_ did you resolve the error? \n",
    "Split the gene argument into two more arguments. On that takes the beginning of the gene and one that takes the end of the gene."
   ]
  },
  {
   "cell_type": "markdown",
   "metadata": {},
   "source": [
    "No Points) If you googled the error, paste in a link to a website you found helpful."
   ]
  },
  {
   "cell_type": "markdown",
   "metadata": {},
   "source": [
    "8) Error 3 - paste in the traceback. \n",
    "\n",
    "\n",
    "ValueError: Error message from NCBI: Message ID#69 Error: Error occurred while trying to set up a Blast Object from CGI context: CFastaReader: Near line 2, there's a line that doesn't look like plausible data, but it's not marked as defline or comment.\n"
   ]
  },
  {
   "cell_type": "markdown",
   "metadata": {},
   "source": [
    "9) Error 3 - What type of error is this? In your own words, what went wrong?\n",
    "\n",
    "\n",
    "Value error. NCBI was not recieving the correct format to do a BLAST search "
   ]
  },
  {
   "cell_type": "markdown",
   "metadata": {},
   "source": [
    "10) Error 2 - Resolve this. In your own words, _how_ did you resolve the error?\n",
    "\n",
    "Once I changed the arguments for sequence_cleanup. It cleared the errors for sequence_blaster"
   ]
  },
  {
   "cell_type": "markdown",
   "metadata": {},
   "source": [
    "11) Google one of errors. What search phrase actually got you helpful results?\n",
    "\n",
    "python os not defined"
   ]
  },
  {
   "cell_type": "markdown",
   "metadata": {},
   "source": [
    "## Part Two \n",
    "\n",
    "You're going to add one function to the package. "
   ]
  },
  {
   "cell_type": "markdown",
   "metadata": {},
   "source": [
    "1) (15pts) The function should be in its own file"
   ]
  },
  {
   "cell_type": "markdown",
   "metadata": {},
   "source": [
    "2) (15 pts) You should write a docstring so I know what the function does"
   ]
  },
  {
   "cell_type": "markdown",
   "metadata": {},
   "source": [
    "3) (15 pts) The function should contain either a precondition, or a postcondition"
   ]
  },
  {
   "cell_type": "markdown",
   "metadata": {},
   "source": [
    "## Part Three\n",
    "(10 pts)\n",
    "Add all your files, commit the files, and push them to your GitHub. Also include a copy of this notebook in the package. "
   ]
  },
  {
   "cell_type": "code",
   "execution_count": null,
   "metadata": {},
   "outputs": [],
   "source": []
  }
 ],
 "metadata": {
  "kernelspec": {
   "display_name": "Python 3",
   "language": "python",
   "name": "python3"
  },
  "language_info": {
   "codemirror_mode": {
    "name": "ipython",
    "version": 3
   },
   "file_extension": ".py",
   "mimetype": "text/x-python",
   "name": "python",
   "nbconvert_exporter": "python",
   "pygments_lexer": "ipython3",
   "version": "3.6.6"
  },
  "latex_envs": {
   "LaTeX_envs_menu_present": true,
   "autoclose": false,
   "autocomplete": true,
   "bibliofile": "biblio.bib",
   "cite_by": "apalike",
   "current_citInitial": 1,
   "eqLabelWithNumbers": true,
   "eqNumInitial": 1,
   "hotkeys": {
    "equation": "Ctrl-E",
    "itemize": "Ctrl-I"
   },
   "labels_anchors": false,
   "latex_user_defs": false,
   "report_style_numbering": false,
   "user_envs_cfg": false
  },
  "toc": {
   "base_numbering": 1,
   "nav_menu": {},
   "number_sections": true,
   "sideBar": true,
   "skip_h1_title": false,
   "title_cell": "Table of Contents",
   "title_sidebar": "Contents",
   "toc_cell": false,
   "toc_position": {},
   "toc_section_display": true,
   "toc_window_display": false
  }
 },
 "nbformat": 4,
 "nbformat_minor": 2
}
