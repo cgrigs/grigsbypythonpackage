{
 "cells": [
  {
   "cell_type": "markdown",
   "metadata": {},
   "source": []
  },
  {
   "cell_type": "markdown",
   "metadata": {
    "slideshow": {
     "slide_type": "slide"
    }
   },
   "source": [
    "# Background Information\n",
    "## Python Programming Language\n",
    "Python is a general purpose programming language, that offers many attractive features. One major feature of this language is its simple, easy to learn syntax. Thinking less about ssynt***Python is free an open-score. This means anyone can freely use and distribute Python code; Because of this Python is constantly improving. Additionally, Python has a large community of users from varying fields. has wide range of applications from Web development (like: Django and Bottle), scientific and mathematical computing (Orange, SymPy, NumPy) to desktop graphical user Interfaces (Pygame, Panda3D).\n",
    "\n",
    "Additionally, you are also able to make contributions This may be why the scientific community has taken quit a liking to it. As a result, there have been numerous developments of modules and packages, that contribute to concepts in science. \n",
    "### A Brief Overview of Functions\n",
    "This package is comprised of multiple functions. Therefore it is necessary for you to understand the basics of a function in Python. Functions in Python are similar to mathematical functions you've used before, such as sin(x), or f(x).\n",
    "\n",
    "A function, in Python, is a set code that allows you to preform a task, or tasks, on the information you provide to it. This is helpful because you do not have to retype the code every time you want to preform these tasks. \n",
    "\n",
    "Functions will have a few basic parts:\n",
    "\n",
    "    def function_name(parameters):\n",
    "        scope\n",
    "        return\n",
    "        \n",
    "    1. def- def is a keyword, required to declare a function.\n",
    "    2. function_name- The name is used to \"call\" the function, for it to be used. \n",
    "       Names should be meaningful to the function, but not required.\n",
    "    3. parameters- This is the information the function will process. \n",
    "       A function can take multiple inputs into its parameter, these are known as arguments. \n",
    "       Arguments are allowed to be of varying types. In the function's definition,\n",
    "       multiple arguments are separated by commas. Like the function's name, the argument's \n",
    "       name should be meaningful with respect to the specific argument. Relevant names are \n",
    "       crucial in providing the user with helpful information as to its purpose.\n",
    "    4. scope- This is the set of instructions you wish to preform on the arguments provided\n",
    "       in the parameters.\n",
    "    5. return- Some functions may contain a return statement. Return is a keyword, that allows you \n",
    "       to use the data created at the end of functions execution, in other parts of your code.\n",
    "       However, if you do not need to use this data you can omit the return statement. \n",
    "    Note: The placement of the the colon, as well as the indentation of the scope, and\n",
    "        return statement, are structurally necessary to functions in Python.\n",
    "        \n",
    "To use the function you must \"call it.\" A function is called using its name and parameters, in parenthesis.\n"
   ]
  },
  {
   "cell_type": "code",
   "execution_count": null,
   "metadata": {
    "code_folding": [],
    "scrolled": false,
    "slideshow": {
     "slide_type": "subslide"
    }
   },
   "outputs": [],
   "source": [
    "#Run this cell to see an example of a simple function implementation:\n",
    "\n",
    "#defining a function\n",
    "def address(house_number, street, city, state_abrv, zip_code):\n",
    "    print(\"Your address is:\", house_number, street,\",\", \"\\n\",(\" \" *15), city, \",\",state_abrv, zip_code)\n",
    "            \n",
    "#Calling the function\n",
    "address(500, \"W University Ave\", \"Hammond\", \"LA\", 70402)\n",
    "\n",
    "\"\"\"\n",
    "The function, address() is being called. The first argument of its parameters is: house_number. \n",
    "While it is not explicitly stated, you can infer the function is expecting the user to input the number associated with their house. \n",
    "\n",
    "The second argument is: \"street\".\n",
    "We can assume the function expects the user to input a string of characters \n",
    "\n",
    "Notice, the function did not return anything. \n",
    "\"\"\""
   ]
  },
  {
   "cell_type": "markdown",
   "metadata": {},
   "source": []
  },
  {
   "cell_type": "markdown",
   "metadata": {
    "slideshow": {
     "slide_type": "slide"
    }
   },
   "source": [
    "# Overview\n",
    "The purpose of this Python package is to search a specific gene of an organism, and provide organisms with similar molecular data.\n",
    "\n",
    "https://biopython.readthedocs.io/en/latest/Tutorial/chapter_blast.html\n",
    "\n",
    "# Introduction\n",
    "\n",
    "### What are we going to search, and where are we going search it?\n",
    "The molecular data being used in the search will be a DNA nucleotide sequence. \n",
    "Using the NCBI database, a BLAST search will be preformed on the molecular data.\n",
    "\n",
    "NCBI is the National Center for Biotechnology Information. This database contains molecular data for many different organisms. The database allows you to  used a basic local alignment tool, or BLAST, to finds regions of similarity between sequences in the database.\n",
    "\n",
    "### What can we do with this information?\n",
    "According to NCBI, the results from the BLAST search can be used to infer functional and evolutionary relationships between sequences as well as help identify members of gene families. Making these connections between sequences can provide us with a better understanding of life around us, and help progress advances in science.\n",
    "\n",
    "\n",
    "# Getting Started\n",
    "- File format\n",
    "- \n",
    "\n",
    "# Controlling Inputs and Outputs\n",
    "## Multiple sequence alignment \n",
    " https://biopython.readthedocs.io/en/latest/Tutorial/chapter_align.html\n",
    "## File types (I/O)\n",
    "## Parse sequence\n",
    "## E values\n",
    "# BLAST Online \n",
    "# BLAST locally\n",
    "https://biopython.readthedocs.io/en/latest/Tutorial/chapter_blast.html#running-blast-locally\n",
    "\n",
    "## Jupyter \n",
    "\n",
    "## LONI"
   ]
  },
  {
   "cell_type": "code",
   "execution_count": null,
   "metadata": {},
   "outputs": [],
   "source": []
  },
  {
   "cell_type": "code",
   "execution_count": null,
   "metadata": {},
   "outputs": [],
   "source": []
  },
  {
   "cell_type": "code",
   "execution_count": null,
   "metadata": {},
   "outputs": [],
   "source": []
  }
 ],
 "metadata": {
  "celltoolbar": "Slideshow",
  "kernelspec": {
   "display_name": "Python 3",
   "language": "python",
   "name": "python3"
  },
  "language_info": {
   "codemirror_mode": {
    "name": "ipython",
    "version": 3
   },
   "file_extension": ".py",
   "mimetype": "text/x-python",
   "name": "python",
   "nbconvert_exporter": "python",
   "pygments_lexer": "ipython3",
   "version": "3.6.6"
  },
  "toc": {
   "base_numbering": 1,
   "nav_menu": {},
   "number_sections": true,
   "sideBar": true,
   "skip_h1_title": false,
   "title_cell": "Table of Contents",
   "title_sidebar": "Contents",
   "toc_cell": false,
   "toc_position": {
    "height": "calc(100% - 180px)",
    "left": "10px",
    "top": "150px",
    "width": "165px"
   },
   "toc_section_display": true,
   "toc_window_display": true
  }
 },
 "nbformat": 4,
 "nbformat_minor": 2
}
